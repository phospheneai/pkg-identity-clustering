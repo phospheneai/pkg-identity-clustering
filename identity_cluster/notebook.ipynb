{
 "cells": [
  {
   "cell_type": "code",
   "execution_count": 1,
   "metadata": {},
   "outputs": [
    {
     "name": "stderr",
     "output_type": "stream",
     "text": [
      "c:\\Users\\ASUS\\Desktop\\Phosphene.AI\\env\\Lib\\site-packages\\tqdm\\auto.py:21: TqdmWarning: IProgress not found. Please update jupyter and ipywidgets. See https://ipywidgets.readthedocs.io/en/stable/user_install.html\n",
      "  from .autonotebook import tqdm as notebook_tqdm\n"
     ]
    }
   ],
   "source": [
    "from cluster import FaceCluster, cluster\n",
    "from base import detect_faces\n",
    "import os\n",
    "from util import get_video_config\n",
    "import json"
   ]
  },
  {
   "cell_type": "markdown",
   "metadata": {},
   "source": [
    "**Get Clustered Identities**"
   ]
  },
  {
   "cell_type": "code",
   "execution_count": null,
   "metadata": {},
   "outputs": [],
   "source": [
    "video_path = \"your/vid/path\""
   ]
  },
  {
   "cell_type": "code",
   "execution_count": null,
   "metadata": {},
   "outputs": [],
   "source": [
    "clust = FaceCluster()\n",
    "faces, fps = detect_faces(video_path, \"cuda:0\")\n",
    "clustered_faces = cluster(clust, video_path, faces)"
   ]
  },
  {
   "cell_type": "markdown",
   "metadata": {},
   "source": [
    "**Save Identities**"
   ]
  },
  {
   "cell_type": "code",
   "execution_count": null,
   "metadata": {},
   "outputs": [],
   "source": [
    "destination_path = \"pah/to/save\""
   ]
  },
  {
   "cell_type": "code",
   "execution_count": null,
   "metadata": {},
   "outputs": [],
   "source": [
    "video_config = {}\n",
    "video_config[\"path\"] = video_path\n",
    "video_config[\"fps\"] = fps\n",
    "for identity in list(clustered_faces.keys()):\n",
    "                    \n",
    "                    if not clustered_faces[identity]:\n",
    "                        ### If no faces in a specific cluster\n",
    "                        continue\n",
    "\n",
    "                    ### Create a folder for each identity\n",
    "                    identity_dir = os.path.join(destination_path,str(identity)) ## Stored ad path in the array\n",
    "\n",
    "                    if not os.path.exists(identity_dir):\n",
    "                        os.mkdir(identity_dir)\n",
    "                        \n",
    "                    config = get_video_config(clustered_faces, identity, identity_dir)\n",
    "                \n",
    "                    with open(os.path.join(identity_dir,f\"{identity}_info.json\"),\"w\") as f:\n",
    "                        json.dump(config,f)\n",
    "                #     identities.append(config)\n",
    "                # video_config[\"Identities\"] = identities\n",
    "with open(os.path.join(destination_path,f\"{os.path.basename(video_path)}.json\"),\"w\") as f:\n",
    "        json.dump(video_config,f)"
   ]
  }
 ],
 "metadata": {
  "kernelspec": {
   "display_name": "env",
   "language": "python",
   "name": "python3"
  },
  "language_info": {
   "codemirror_mode": {
    "name": "ipython",
    "version": 3
   },
   "file_extension": ".py",
   "mimetype": "text/x-python",
   "name": "python",
   "nbconvert_exporter": "python",
   "pygments_lexer": "ipython3",
   "version": "3.11.9"
  }
 },
 "nbformat": 4,
 "nbformat_minor": 2
}
